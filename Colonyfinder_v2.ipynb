{
 "cells": [
  {
   "cell_type": "markdown",
   "id": "chinese-impression",
   "metadata": {},
   "source": [
    "# Segmenting and analyzing bacterial colonies\n",
    "Anna Spinosa, Kasper Spoelstra and Arent Kievits, 2021/05/25"
   ]
  },
  {
   "cell_type": "markdown",
   "id": "advanced-apparatus",
   "metadata": {},
   "source": [
    " ## 1. Convert images to grayscale"
   ]
  },
  {
   "cell_type": "code",
   "execution_count": null,
   "id": "utility-tension",
   "metadata": {},
   "outputs": [],
   "source": []
  },
  {
   "cell_type": "markdown",
   "id": "separated-question",
   "metadata": {},
   "source": [
    "## 2. Cutout the individual petri dishes by adding a mask"
   ]
  },
  {
   "cell_type": "code",
   "execution_count": null,
   "id": "coral-gilbert",
   "metadata": {},
   "outputs": [],
   "source": []
  },
  {
   "cell_type": "markdown",
   "id": "formed-royal",
   "metadata": {},
   "source": [
    "## 3. Calculate a color histogram for your masked image"
   ]
  },
  {
   "cell_type": "code",
   "execution_count": null,
   "id": "adopted-yorkshire",
   "metadata": {},
   "outputs": [],
   "source": []
  },
  {
   "cell_type": "markdown",
   "id": "cooked-helmet",
   "metadata": {},
   "source": [
    "## Calculate area filled with bacteria per petri dish"
   ]
  },
  {
   "cell_type": "code",
   "execution_count": null,
   "id": "emotional-letters",
   "metadata": {},
   "outputs": [],
   "source": []
  }
 ],
 "metadata": {
  "kernelspec": {
   "display_name": "Python 3",
   "language": "python",
   "name": "python3"
  },
  "language_info": {
   "codemirror_mode": {
    "name": "ipython",
    "version": 3
   },
   "file_extension": ".py",
   "mimetype": "text/x-python",
   "name": "python",
   "nbconvert_exporter": "python",
   "pygments_lexer": "ipython3",
   "version": "3.8.6"
  }
 },
 "nbformat": 4,
 "nbformat_minor": 5
}
